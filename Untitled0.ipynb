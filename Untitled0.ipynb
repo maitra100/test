{
  "nbformat": 4,
  "nbformat_minor": 0,
  "metadata": {
    "colab": {
      "name": "Untitled0.ipynb",
      "provenance": []
    },
    "kernelspec": {
      "name": "python3",
      "display_name": "Python 3"
    },
    "language_info": {
      "name": "python"
    }
  },
  "cells": [
    {
      "cell_type": "code",
      "execution_count": 38,
      "metadata": {
        "colab": {
          "base_uri": "https://localhost:8080/",
          "height": 660
        },
        "id": "BrdCrOjx_UD4",
        "outputId": "b0c50b70-db9c-4d0d-c8e6-4f453cadfc67"
      },
      "outputs": [
        {
          "output_type": "execute_result",
          "data": {
            "text/plain": [
              "'curl -X POST -H \"Content-type:application/json\" -d  \"{\"instances\":[[[  0   ,0   ,0   ,0   ,0   ,0   ,0   ,0   ,0   ,0   ,0   ,0   ,0   ,0   ,0   ,0   ,0   ,0    ,0   ,0   ,0   ,0   ,0   ,0   ,0   ,0   ,0   ,0], [  0   ,0   ,0   ,0   ,0   ,0   ,0   ,0   ,0   ,0   ,0   ,0   ,0   ,0   ,0   ,0   ,0   ,0    ,0   ,0   ,0   ,0   ,0   ,0   ,0   ,0   ,0   ,0], [  0   ,0   ,0   ,0   ,0   ,0   ,0   ,0   ,0   ,0   ,0   ,0   ,0   ,0   ,0   ,0   ,0   ,0    ,0   ,0   ,0   ,0   ,0   ,0   ,0   ,0   ,0   ,0], [  0   ,0   ,0   ,0   ,0   ,0   ,0   ,0   ,0   ,0   ,0   ,0   ,0   ,0   ,0   ,0   ,0   ,0    ,0   ,0   ,0   ,0   ,0   ,0   ,0   ,0   ,0   ,0], [  0   ,0   ,0   ,0   ,0   ,0   ,0   ,0   ,0   ,0   ,0   ,0   ,0   ,0   ,0   ,0   ,0   ,0    ,0   ,0   ,0   ,0   ,0   ,0   ,0   ,0   ,0   ,0], [  0   ,0   ,0   ,0   ,0   ,0   ,0   ,0   ,0   ,0   ,0   ,0   ,3  ,18  ,18  ,18 ,126 ,136  ,175  ,26 ,166 ,255 ,247 ,127   ,0   ,0   ,0   ,0], [  0   ,0   ,0   ,0   ,0   ,0   ,0   ,0  ,30  ,36  ,94 ,154 ,170 ,253 ,253 ,253 ,253 ,253  ,225 ,172 ,253 ,242 ,195  ,64   ,0   ,0   ,0   ,0], [  0   ,0   ,0   ,0   ,0   ,0   ,0  ,49 ,238 ,253 ,253 ,253 ,253 ,253 ,253 ,253 ,253 ,251   ,93  ,82  ,82  ,56  ,39   ,0   ,0   ,0   ,0   ,0], [  0   ,0   ,0   ,0   ,0   ,0   ,0  ,18 ,219 ,253 ,253 ,253 ,253 ,253 ,198 ,182 ,247 ,241    ,0   ,0   ,0   ,0   ,0   ,0   ,0   ,0   ,0   ,0], [  0   ,0   ,0   ,0   ,0   ,0   ,0   ,0  ,80 ,156 ,107 ,253 ,253 ,205  ,11   ,0  ,43 ,154    ,0   ,0   ,0   ,0   ,0   ,0   ,0   ,0   ,0   ,0], [  0   ,0   ,0   ,0   ,0   ,0   ,0   ,0   ,0  ,14   ,1 ,154 ,253  ,90   ,0   ,0   ,0   ,0    ,0   ,0   ,0   ,0   ,0   ,0   ,0   ,0   ,0   ,0], [  0   ,0   ,0   ,0   ,0   ,0   ,0   ,0   ,0   ,0   ,0 ,139 ,253 ,190   ,2   ,0   ,0   ,0    ,0   ,0   ,0   ,0   ,0   ,0   ,0   ,0   ,0   ,0], [  0   ,0   ,0   ,0   ,0   ,0   ,0   ,0   ,0   ,0   ,0  ,11 ,190 ,253  ,70   ,0   ,0   ,0    ,0   ,0   ,0   ,0   ,0   ,0   ,0   ,0   ,0   ,0], [  0   ,0   ,0   ,0   ,0   ,0   ,0   ,0   ,0   ,0   ,0   ,0  ,35 ,241 ,225 ,160 ,108   ,1    ,0   ,0   ,0   ,0   ,0   ,0   ,0   ,0   ,0   ,0], [  0   ,0   ,0   ,0   ,0   ,0   ,0   ,0   ,0   ,0   ,0   ,0   ,0  ,81 ,240 ,253 ,253 ,119   ,25   ,0   ,0   ,0   ,0   ,0   ,0   ,0   ,0   ,0], [  0   ,0   ,0   ,0   ,0   ,0   ,0   ,0   ,0   ,0   ,0   ,0   ,0   ,0  ,45 ,186 ,253 ,253  ,150  ,27   ,0   ,0   ,0   ,0   ,0   ,0   ,0   ,0], [  0   ,0   ,0   ,0   ,0   ,0   ,0   ,0   ,0   ,0   ,0   ,0   ,0   ,0   ,0  ,16  ,93 ,252  ,253 ,187   ,0   ,0   ,0   ,0   ,0   ,0   ,0   ,0], [  0   ,0   ,0   ,0   ,0   ,0   ,0   ,0   ,0   ,0   ,0   ,0   ,0   ,0   ,0   ,0   ,0 ,249  ,253 ,249  ,64   ,0   ,0   ,0   ,0   ,0   ,0   ,0], [  0   ,0   ,0   ,0   ,0   ,0   ,0   ,0   ,0   ,0   ,0   ,0   ,0   ,0  ,46 ,130 ,183 ,253  ,253 ,207   ,2   ,0   ,0   ,0   ,0   ,0   ,0   ,0], [  0   ,0   ,0   ,0   ,0   ,0   ,0   ,0   ,0   ,0   ,0   ,0  ,39 ,148 ,229 ,253 ,253 ,253  ,250 ,182   ,0   ,0   ,0   ,0   ,0   ,0   ,0   ,0], [  0   ,0   ,0   ,0   ,0   ,0   ,0   ,0   ,0   ,0  ,24 ,114 ,221 ,253 ,253 ,253 ,253 ,201   ,78   ,0   ,0   ,0   ,0   ,0   ,0   ,0   ,0   ,0], [  0   ,0   ,0   ,0   ,0   ,0   ,0   ,0  ,23  ,66 ,213 ,253 ,253 ,253 ,253 ,198  ,81   ,2    ,0   ,0   ,0   ,0   ,0   ,0   ,0   ,0   ,0   ,0], [  0   ,0   ,0   ,0   ,0   ,0  ,18 ,171 ,219 ,253 ,253 ,253 ,253 ,195  ,80   ,9   ,0   ,0    ,0   ,0   ,0   ,0   ,0   ,0   ,0   ,0   ,0   ,0], [  0   ,0   ,0   ,0  ,55 ,172 ,226 ,253 ,253 ,253 ,253 ,244 ,133  ,11   ,0   ,0   ,0   ,0    ,0   ,0   ,0   ,0   ,0   ,0   ,0   ,0   ,0   ,0], [  0   ,0   ,0   ,0 ,136 ,253 ,253 ,253 ,212 ,135 ,132  ,16   ,0   ,0   ,0   ,0   ,0   ,0    ,0   ,0   ,0   ,0   ,0   ,0   ,0   ,0   ,0   ,0], [  0   ,0   ,0   ,0   ,0   ,0   ,0   ,0   ,0   ,0   ,0   ,0   ,0   ,0   ,0   ,0   ,0   ,0    ,0   ,0   ,0   ,0   ,0   ,0   ,0   ,0   ,0   ,0], [  0   ,0   ,0   ,0   ,0   ,0   ,0   ,0   ,0   ,0   ,0   ,0   ,0   ,0   ,0   ,0   ,0   ,0    ,0   ,0   ,0   ,0   ,0   ,0   ,0   ,0   ,0   ,0], [  0   ,0   ,0   ,0   ,0   ,0   ,0   ,0   ,0   ,0   ,0   ,0   ,0   ,0   ,0   ,0   ,0   ,0    ,0   ,0   ,0   ,0   ,0   ,0   ,0   ,0   ,0   ,0]]]}\" http:/localhost:9002/v1/models/mnist_experiments:predict'"
            ],
            "application/vnd.google.colaboratory.intrinsic+json": {
              "type": "string"
            }
          },
          "metadata": {},
          "execution_count": 38
        }
      ],
      "source": [
        "# def convert(s):\n",
        "#   an=\",\"\n",
        "#   return s.group()+\",\"\n",
        "\n",
        "# f = open(\"data.txt\", \"r\")\n",
        "# s2=f.read()\n",
        "# s1='curl -X POST -H \"Content-type:application/json\" -d  \"{\\\"instances\\\":['\n",
        "# s3= ']]}\" http:/localhost:9002/v1/models/mnist_experiments:predict'\n",
        "# s2=s2.replace(\"\\n\", \"\")\n",
        "# s2=re.sub(r\"[0-9]\\s+\",convert,s2)\n",
        "# s2=s2.replace(\"]\",\"],\")\n",
        "# s2=s2[:-3]\n",
        "# s1+s2+s3"
      ]
    },
    {
      "cell_type": "code",
      "source": [
        "# import re\n"
      ],
      "metadata": {
        "id": "JziHoWO6WjAn"
      },
      "execution_count": 28,
      "outputs": []
    },
    {
      "cell_type": "code",
      "source": [
        "import requests \n",
        "import json\n",
        "# defining the api-endpoint  \n",
        "API_ENDPOINT = \" http:/localhost:9002/v1/models/mnist_experiments:predict\"\n",
        "\n",
        "\n",
        "#curl  -X POST http://localhost:8501/v1/models/half_plus_two:predict  -d '{\\\"instances\\\": [1.0, 2.0, 5.0]}'\n",
        "# data to be sent to api \n",
        "\n",
        "data = {'instances':[[[  0   ,0   ,0   ,0   ,0   ,0   ,0   ,0   ,0   ,0   ,0   ,0   ,0   ,0   ,0   ,0   ,0   ,0    ,0   ,0   ,0   ,0   ,0   ,0   ,0   ,0   ,0   ,0], [  0   ,0   ,0   ,0   ,0   ,0   ,0   ,0   ,0   ,0   ,0   ,0   ,0   ,0   ,0   ,0   ,0   ,0    ,0   ,0   ,0   ,0   ,0   ,0   ,0   ,0   ,0   ,0], [  0   ,0   ,0   ,0   ,0   ,0   ,0   ,0   ,0   ,0   ,0   ,0   ,0   ,0   ,0   ,0   ,0   ,0    ,0   ,0   ,0   ,0   ,0   ,0   ,0   ,0   ,0   ,0], [  0   ,0   ,0   ,0   ,0   ,0   ,0   ,0   ,0   ,0   ,0   ,0   ,0   ,0   ,0   ,0   ,0   ,0    ,0   ,0   ,0   ,0   ,0   ,0   ,0   ,0   ,0   ,0], [  0   ,0   ,0   ,0   ,0   ,0   ,0   ,0   ,0   ,0   ,0   ,0   ,0   ,0   ,0   ,0   ,0   ,0    ,0   ,0   ,0   ,0   ,0   ,0   ,0   ,0   ,0   ,0], [  0   ,0   ,0   ,0   ,0   ,0   ,0   ,0   ,0   ,0   ,0   ,0   ,3  ,18  ,18  ,18 ,126 ,136  ,175  ,26 ,166 ,255 ,247 ,127   ,0   ,0   ,0   ,0], [  0   ,0   ,0   ,0   ,0   ,0   ,0   ,0  ,30  ,36  ,94 ,154 ,170 ,253 ,253 ,253 ,253 ,253  ,225 ,172 ,253 ,242 ,195  ,64   ,0   ,0   ,0   ,0], [  0   ,0   ,0   ,0   ,0   ,0   ,0  ,49 ,238 ,253 ,253 ,253 ,253 ,253 ,253 ,253 ,253 ,251   ,93  ,82  ,82  ,56  ,39   ,0   ,0   ,0   ,0   ,0], [  0   ,0   ,0   ,0   ,0   ,0   ,0  ,18 ,219 ,253 ,253 ,253 ,253 ,253 ,198 ,182 ,247 ,241    ,0   ,0   ,0   ,0   ,0   ,0   ,0   ,0   ,0   ,0], [  0   ,0   ,0   ,0   ,0   ,0   ,0   ,0  ,80 ,156 ,107 ,253 ,253 ,205  ,11   ,0  ,43 ,154    ,0   ,0   ,0   ,0   ,0   ,0   ,0   ,0   ,0   ,0], [  0   ,0   ,0   ,0   ,0   ,0   ,0   ,0   ,0  ,14   ,1 ,154 ,253  ,90   ,0   ,0   ,0   ,0    ,0   ,0   ,0   ,0   ,0   ,0   ,0   ,0   ,0   ,0], [  0   ,0   ,0   ,0   ,0   ,0   ,0   ,0   ,0   ,0   ,0 ,139 ,253 ,190   ,2   ,0   ,0   ,0    ,0   ,0   ,0   ,0   ,0   ,0   ,0   ,0   ,0   ,0], [  0   ,0   ,0   ,0   ,0   ,0   ,0   ,0   ,0   ,0   ,0  ,11 ,190 ,253  ,70   ,0   ,0   ,0    ,0   ,0   ,0   ,0   ,0   ,0   ,0   ,0   ,0   ,0], [  0   ,0   ,0   ,0   ,0   ,0   ,0   ,0   ,0   ,0   ,0   ,0  ,35 ,241 ,225 ,160 ,108   ,1    ,0   ,0   ,0   ,0   ,0   ,0   ,0   ,0   ,0   ,0], [  0   ,0   ,0   ,0   ,0   ,0   ,0   ,0   ,0   ,0   ,0   ,0   ,0  ,81 ,240 ,253 ,253 ,119   ,25   ,0   ,0   ,0   ,0   ,0   ,0   ,0   ,0   ,0], [  0   ,0   ,0   ,0   ,0   ,0   ,0   ,0   ,0   ,0   ,0   ,0   ,0   ,0  ,45 ,186 ,253 ,253  ,150  ,27   ,0   ,0   ,0   ,0   ,0   ,0   ,0   ,0], [  0   ,0   ,0   ,0   ,0   ,0   ,0   ,0   ,0   ,0   ,0   ,0   ,0   ,0   ,0  ,16  ,93 ,252  ,253 ,187   ,0   ,0   ,0   ,0   ,0   ,0   ,0   ,0], [  0   ,0   ,0   ,0   ,0   ,0   ,0   ,0   ,0   ,0   ,0   ,0   ,0   ,0   ,0   ,0   ,0 ,249  ,253 ,249  ,64   ,0   ,0   ,0   ,0   ,0   ,0   ,0], [  0   ,0   ,0   ,0   ,0   ,0   ,0   ,0   ,0   ,0   ,0   ,0   ,0   ,0  ,46 ,130 ,183 ,253  ,253 ,207   ,2   ,0   ,0   ,0   ,0   ,0   ,0   ,0], [  0   ,0   ,0   ,0   ,0   ,0   ,0   ,0   ,0   ,0   ,0   ,0  ,39 ,148 ,229 ,253 ,253 ,253  ,250 ,182   ,0   ,0   ,0   ,0   ,0   ,0   ,0   ,0], [  0   ,0   ,0   ,0   ,0   ,0   ,0   ,0   ,0   ,0  ,24 ,114 ,221 ,253 ,253 ,253 ,253 ,201   ,78   ,0   ,0   ,0   ,0   ,0   ,0   ,0   ,0   ,0], [  0   ,0   ,0   ,0   ,0   ,0   ,0   ,0  ,23  ,66 ,213 ,253 ,253 ,253 ,253 ,198  ,81   ,2    ,0   ,0   ,0   ,0   ,0   ,0   ,0   ,0   ,0   ,0], [  0   ,0   ,0   ,0   ,0   ,0  ,18 ,171 ,219 ,253 ,253 ,253 ,253 ,195  ,80   ,9   ,0   ,0    ,0   ,0   ,0   ,0   ,0   ,0   ,0   ,0   ,0   ,0], [  0   ,0   ,0   ,0  ,55 ,172 ,226 ,253 ,253 ,253 ,253 ,244 ,133  ,11   ,0   ,0   ,0   ,0    ,0   ,0   ,0   ,0   ,0   ,0   ,0   ,0   ,0   ,0], [  0   ,0   ,0   ,0 ,136 ,253 ,253 ,253 ,212 ,135 ,132  ,16   ,0   ,0   ,0   ,0   ,0   ,0    ,0   ,0   ,0   ,0   ,0   ,0   ,0   ,0   ,0   ,0], [  0   ,0   ,0   ,0   ,0   ,0   ,0   ,0   ,0   ,0   ,0   ,0   ,0   ,0   ,0   ,0   ,0   ,0    ,0   ,0   ,0   ,0   ,0   ,0   ,0   ,0   ,0   ,0], [  0   ,0   ,0   ,0   ,0   ,0   ,0   ,0   ,0   ,0   ,0   ,0   ,0   ,0   ,0   ,0   ,0   ,0    ,0   ,0   ,0   ,0   ,0   ,0   ,0   ,0   ,0   ,0], [  0   ,0   ,0   ,0   ,0   ,0   ,0   ,0   ,0   ,0   ,0   ,0   ,0   ,0   ,0   ,0   ,0   ,0    ,0   ,0   ,0   ,0   ,0   ,0   ,0   ,0   ,0   ,0]]]}\n",
        "\n",
        "# sending post request and saving response as response object \n",
        "r = requests.post(url = API_ENDPOINT, data = json.dumps(data)) \n",
        "# extracting response text\n",
        "pastebin_url = r.text \n",
        "print(\"The pastebin URL is:%s\"%pastebin_url)"
      ],
      "metadata": {
        "colab": {
          "base_uri": "https://localhost:8080/",
          "height": 398
        },
        "id": "fCiPkk7Le1H-",
        "outputId": "205636e4-b893-488a-8d9c-e6046e095e55"
      },
      "execution_count": 40,
      "outputs": [
        {
          "output_type": "error",
          "ename": "MissingSchema",
          "evalue": "ignored",
          "traceback": [
            "\u001b[0;31m---------------------------------------------------------------------------\u001b[0m",
            "\u001b[0;31mMissingSchema\u001b[0m                             Traceback (most recent call last)",
            "\u001b[0;32m<ipython-input-40-8e065b08f3c7>\u001b[0m in \u001b[0;36m<module>\u001b[0;34m()\u001b[0m\n\u001b[1;32m     11\u001b[0m \u001b[0;34m\u001b[0m\u001b[0m\n\u001b[1;32m     12\u001b[0m \u001b[0;31m# sending post request and saving response as response object\u001b[0m\u001b[0;34m\u001b[0m\u001b[0;34m\u001b[0m\u001b[0;34m\u001b[0m\u001b[0m\n\u001b[0;32m---> 13\u001b[0;31m \u001b[0mr\u001b[0m \u001b[0;34m=\u001b[0m \u001b[0mrequests\u001b[0m\u001b[0;34m.\u001b[0m\u001b[0mpost\u001b[0m\u001b[0;34m(\u001b[0m\u001b[0murl\u001b[0m \u001b[0;34m=\u001b[0m \u001b[0mAPI_ENDPOINT\u001b[0m\u001b[0;34m,\u001b[0m \u001b[0mdata\u001b[0m \u001b[0;34m=\u001b[0m \u001b[0mjson\u001b[0m\u001b[0;34m.\u001b[0m\u001b[0mdumps\u001b[0m\u001b[0;34m(\u001b[0m\u001b[0mdata\u001b[0m\u001b[0;34m)\u001b[0m\u001b[0;34m)\u001b[0m\u001b[0;34m\u001b[0m\u001b[0;34m\u001b[0m\u001b[0m\n\u001b[0m\u001b[1;32m     14\u001b[0m \u001b[0;31m# extracting response text\u001b[0m\u001b[0;34m\u001b[0m\u001b[0;34m\u001b[0m\u001b[0;34m\u001b[0m\u001b[0m\n\u001b[1;32m     15\u001b[0m \u001b[0mpastebin_url\u001b[0m \u001b[0;34m=\u001b[0m \u001b[0mr\u001b[0m\u001b[0;34m.\u001b[0m\u001b[0mtext\u001b[0m\u001b[0;34m\u001b[0m\u001b[0;34m\u001b[0m\u001b[0m\n",
            "\u001b[0;32m/usr/local/lib/python3.7/dist-packages/requests/api.py\u001b[0m in \u001b[0;36mpost\u001b[0;34m(url, data, json, **kwargs)\u001b[0m\n\u001b[1;32m    117\u001b[0m     \"\"\"\n\u001b[1;32m    118\u001b[0m \u001b[0;34m\u001b[0m\u001b[0m\n\u001b[0;32m--> 119\u001b[0;31m     \u001b[0;32mreturn\u001b[0m \u001b[0mrequest\u001b[0m\u001b[0;34m(\u001b[0m\u001b[0;34m'post'\u001b[0m\u001b[0;34m,\u001b[0m \u001b[0murl\u001b[0m\u001b[0;34m,\u001b[0m \u001b[0mdata\u001b[0m\u001b[0;34m=\u001b[0m\u001b[0mdata\u001b[0m\u001b[0;34m,\u001b[0m \u001b[0mjson\u001b[0m\u001b[0;34m=\u001b[0m\u001b[0mjson\u001b[0m\u001b[0;34m,\u001b[0m \u001b[0;34m**\u001b[0m\u001b[0mkwargs\u001b[0m\u001b[0;34m)\u001b[0m\u001b[0;34m\u001b[0m\u001b[0;34m\u001b[0m\u001b[0m\n\u001b[0m\u001b[1;32m    120\u001b[0m \u001b[0;34m\u001b[0m\u001b[0m\n\u001b[1;32m    121\u001b[0m \u001b[0;34m\u001b[0m\u001b[0m\n",
            "\u001b[0;32m/usr/local/lib/python3.7/dist-packages/requests/api.py\u001b[0m in \u001b[0;36mrequest\u001b[0;34m(method, url, **kwargs)\u001b[0m\n\u001b[1;32m     59\u001b[0m     \u001b[0;31m# cases, and look like a memory leak in others.\u001b[0m\u001b[0;34m\u001b[0m\u001b[0;34m\u001b[0m\u001b[0;34m\u001b[0m\u001b[0m\n\u001b[1;32m     60\u001b[0m     \u001b[0;32mwith\u001b[0m \u001b[0msessions\u001b[0m\u001b[0;34m.\u001b[0m\u001b[0mSession\u001b[0m\u001b[0;34m(\u001b[0m\u001b[0;34m)\u001b[0m \u001b[0;32mas\u001b[0m \u001b[0msession\u001b[0m\u001b[0;34m:\u001b[0m\u001b[0;34m\u001b[0m\u001b[0;34m\u001b[0m\u001b[0m\n\u001b[0;32m---> 61\u001b[0;31m         \u001b[0;32mreturn\u001b[0m \u001b[0msession\u001b[0m\u001b[0;34m.\u001b[0m\u001b[0mrequest\u001b[0m\u001b[0;34m(\u001b[0m\u001b[0mmethod\u001b[0m\u001b[0;34m=\u001b[0m\u001b[0mmethod\u001b[0m\u001b[0;34m,\u001b[0m \u001b[0murl\u001b[0m\u001b[0;34m=\u001b[0m\u001b[0murl\u001b[0m\u001b[0;34m,\u001b[0m \u001b[0;34m**\u001b[0m\u001b[0mkwargs\u001b[0m\u001b[0;34m)\u001b[0m\u001b[0;34m\u001b[0m\u001b[0;34m\u001b[0m\u001b[0m\n\u001b[0m\u001b[1;32m     62\u001b[0m \u001b[0;34m\u001b[0m\u001b[0m\n\u001b[1;32m     63\u001b[0m \u001b[0;34m\u001b[0m\u001b[0m\n",
            "\u001b[0;32m/usr/local/lib/python3.7/dist-packages/requests/sessions.py\u001b[0m in \u001b[0;36mrequest\u001b[0;34m(self, method, url, params, data, headers, cookies, files, auth, timeout, allow_redirects, proxies, hooks, stream, verify, cert, json)\u001b[0m\n\u001b[1;32m    514\u001b[0m             \u001b[0mhooks\u001b[0m\u001b[0;34m=\u001b[0m\u001b[0mhooks\u001b[0m\u001b[0;34m,\u001b[0m\u001b[0;34m\u001b[0m\u001b[0;34m\u001b[0m\u001b[0m\n\u001b[1;32m    515\u001b[0m         )\n\u001b[0;32m--> 516\u001b[0;31m         \u001b[0mprep\u001b[0m \u001b[0;34m=\u001b[0m \u001b[0mself\u001b[0m\u001b[0;34m.\u001b[0m\u001b[0mprepare_request\u001b[0m\u001b[0;34m(\u001b[0m\u001b[0mreq\u001b[0m\u001b[0;34m)\u001b[0m\u001b[0;34m\u001b[0m\u001b[0;34m\u001b[0m\u001b[0m\n\u001b[0m\u001b[1;32m    517\u001b[0m \u001b[0;34m\u001b[0m\u001b[0m\n\u001b[1;32m    518\u001b[0m         \u001b[0mproxies\u001b[0m \u001b[0;34m=\u001b[0m \u001b[0mproxies\u001b[0m \u001b[0;32mor\u001b[0m \u001b[0;34m{\u001b[0m\u001b[0;34m}\u001b[0m\u001b[0;34m\u001b[0m\u001b[0;34m\u001b[0m\u001b[0m\n",
            "\u001b[0;32m/usr/local/lib/python3.7/dist-packages/requests/sessions.py\u001b[0m in \u001b[0;36mprepare_request\u001b[0;34m(self, request)\u001b[0m\n\u001b[1;32m    457\u001b[0m             \u001b[0mauth\u001b[0m\u001b[0;34m=\u001b[0m\u001b[0mmerge_setting\u001b[0m\u001b[0;34m(\u001b[0m\u001b[0mauth\u001b[0m\u001b[0;34m,\u001b[0m \u001b[0mself\u001b[0m\u001b[0;34m.\u001b[0m\u001b[0mauth\u001b[0m\u001b[0;34m)\u001b[0m\u001b[0;34m,\u001b[0m\u001b[0;34m\u001b[0m\u001b[0;34m\u001b[0m\u001b[0m\n\u001b[1;32m    458\u001b[0m             \u001b[0mcookies\u001b[0m\u001b[0;34m=\u001b[0m\u001b[0mmerged_cookies\u001b[0m\u001b[0;34m,\u001b[0m\u001b[0;34m\u001b[0m\u001b[0;34m\u001b[0m\u001b[0m\n\u001b[0;32m--> 459\u001b[0;31m             \u001b[0mhooks\u001b[0m\u001b[0;34m=\u001b[0m\u001b[0mmerge_hooks\u001b[0m\u001b[0;34m(\u001b[0m\u001b[0mrequest\u001b[0m\u001b[0;34m.\u001b[0m\u001b[0mhooks\u001b[0m\u001b[0;34m,\u001b[0m \u001b[0mself\u001b[0m\u001b[0;34m.\u001b[0m\u001b[0mhooks\u001b[0m\u001b[0;34m)\u001b[0m\u001b[0;34m,\u001b[0m\u001b[0;34m\u001b[0m\u001b[0;34m\u001b[0m\u001b[0m\n\u001b[0m\u001b[1;32m    460\u001b[0m         )\n\u001b[1;32m    461\u001b[0m         \u001b[0;32mreturn\u001b[0m \u001b[0mp\u001b[0m\u001b[0;34m\u001b[0m\u001b[0;34m\u001b[0m\u001b[0m\n",
            "\u001b[0;32m/usr/local/lib/python3.7/dist-packages/requests/models.py\u001b[0m in \u001b[0;36mprepare\u001b[0;34m(self, method, url, headers, files, data, params, auth, cookies, hooks, json)\u001b[0m\n\u001b[1;32m    312\u001b[0m \u001b[0;34m\u001b[0m\u001b[0m\n\u001b[1;32m    313\u001b[0m         \u001b[0mself\u001b[0m\u001b[0;34m.\u001b[0m\u001b[0mprepare_method\u001b[0m\u001b[0;34m(\u001b[0m\u001b[0mmethod\u001b[0m\u001b[0;34m)\u001b[0m\u001b[0;34m\u001b[0m\u001b[0;34m\u001b[0m\u001b[0m\n\u001b[0;32m--> 314\u001b[0;31m         \u001b[0mself\u001b[0m\u001b[0;34m.\u001b[0m\u001b[0mprepare_url\u001b[0m\u001b[0;34m(\u001b[0m\u001b[0murl\u001b[0m\u001b[0;34m,\u001b[0m \u001b[0mparams\u001b[0m\u001b[0;34m)\u001b[0m\u001b[0;34m\u001b[0m\u001b[0;34m\u001b[0m\u001b[0m\n\u001b[0m\u001b[1;32m    315\u001b[0m         \u001b[0mself\u001b[0m\u001b[0;34m.\u001b[0m\u001b[0mprepare_headers\u001b[0m\u001b[0;34m(\u001b[0m\u001b[0mheaders\u001b[0m\u001b[0;34m)\u001b[0m\u001b[0;34m\u001b[0m\u001b[0;34m\u001b[0m\u001b[0m\n\u001b[1;32m    316\u001b[0m         \u001b[0mself\u001b[0m\u001b[0;34m.\u001b[0m\u001b[0mprepare_cookies\u001b[0m\u001b[0;34m(\u001b[0m\u001b[0mcookies\u001b[0m\u001b[0;34m)\u001b[0m\u001b[0;34m\u001b[0m\u001b[0;34m\u001b[0m\u001b[0m\n",
            "\u001b[0;32m/usr/local/lib/python3.7/dist-packages/requests/models.py\u001b[0m in \u001b[0;36mprepare_url\u001b[0;34m(self, url, params)\u001b[0m\n\u001b[1;32m    386\u001b[0m             \u001b[0merror\u001b[0m \u001b[0;34m=\u001b[0m \u001b[0merror\u001b[0m\u001b[0;34m.\u001b[0m\u001b[0mformat\u001b[0m\u001b[0;34m(\u001b[0m\u001b[0mto_native_string\u001b[0m\u001b[0;34m(\u001b[0m\u001b[0murl\u001b[0m\u001b[0;34m,\u001b[0m \u001b[0;34m'utf8'\u001b[0m\u001b[0;34m)\u001b[0m\u001b[0;34m)\u001b[0m\u001b[0;34m\u001b[0m\u001b[0;34m\u001b[0m\u001b[0m\n\u001b[1;32m    387\u001b[0m \u001b[0;34m\u001b[0m\u001b[0m\n\u001b[0;32m--> 388\u001b[0;31m             \u001b[0;32mraise\u001b[0m \u001b[0mMissingSchema\u001b[0m\u001b[0;34m(\u001b[0m\u001b[0merror\u001b[0m\u001b[0;34m)\u001b[0m\u001b[0;34m\u001b[0m\u001b[0;34m\u001b[0m\u001b[0m\n\u001b[0m\u001b[1;32m    389\u001b[0m \u001b[0;34m\u001b[0m\u001b[0m\n\u001b[1;32m    390\u001b[0m         \u001b[0;32mif\u001b[0m \u001b[0;32mnot\u001b[0m \u001b[0mhost\u001b[0m\u001b[0;34m:\u001b[0m\u001b[0;34m\u001b[0m\u001b[0;34m\u001b[0m\u001b[0m\n",
            "\u001b[0;31mMissingSchema\u001b[0m: Invalid URL 'http:/localhost:9002/v1/models/mnist_experiments:predict': No schema supplied. Perhaps you meant http://http:/localhost:9002/v1/models/mnist_experiments:predict?"
          ]
        }
      ]
    }
  ]
}